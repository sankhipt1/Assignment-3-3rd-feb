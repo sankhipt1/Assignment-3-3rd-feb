{
 "cells": [
  {
   "cell_type": "code",
   "execution_count": null,
   "id": "b01687af-c358-4448-87ac-d601bf034df0",
   "metadata": {},
   "outputs": [],
   "source": [
    "Q1. def keyword is used to create a function"
   ]
  },
  {
   "cell_type": "code",
   "execution_count": 1,
   "id": "55a91b0e-a233-41ef-ac8d-fc91ac793050",
   "metadata": {},
   "outputs": [
    {
     "name": "stdout",
     "output_type": "stream",
     "text": [
      "[1, 3, 5, 7, 9, 11, 13, 15, 17, 19, 21, 23, 25]\n"
     ]
    }
   ],
   "source": [
    "def odd_numbers():\n",
    "    odd_list = []\n",
    "    for i in range(1,26):\n",
    "        if i % 2 != 0:\n",
    "            odd_list.append(i)\n",
    "    return odd_list\n",
    "print(odd_numbers())"
   ]
  },
  {
   "cell_type": "code",
   "execution_count": null,
   "id": "135b851c-91f3-4247-8717-401b847e4ebd",
   "metadata": {},
   "outputs": [],
   "source": [
    "Q2. '*args' is used to pass a non-keyworded, variable-length argument list to a function. \n",
    "    It can used for tuples.\n",
    "    '**kwargs' is used to pass keyworded, variable length argument to a function such as dictionary."
   ]
  },
  {
   "cell_type": "code",
   "execution_count": 2,
   "id": "34e39858-d211-4ba4-9e5a-c6cbb765e392",
   "metadata": {},
   "outputs": [
    {
     "name": "stdout",
     "output_type": "stream",
     "text": [
      "1\n",
      "2\n",
      "3\n",
      "4\n",
      "5\n"
     ]
    }
   ],
   "source": [
    "def print_args(*args):\n",
    "    for arg in args:\n",
    "        print(arg)\n",
    "        \n",
    "print_args(1,2,3,4,5)"
   ]
  },
  {
   "cell_type": "code",
   "execution_count": 9,
   "id": "b2743250-92f0-4157-9c30-930d69361819",
   "metadata": {},
   "outputs": [
    {
     "name": "stdout",
     "output_type": "stream",
     "text": [
      "a : 1\n",
      "b : 2\n",
      "c : 3\n"
     ]
    }
   ],
   "source": [
    "def print_kwargs(**kwargs):\n",
    "    for key, value in kwargs.items():\n",
    "        print(f\"{key} : {value}\")\n",
    "    \n",
    "print_kwargs(a=1, b=2, c=3)"
   ]
  },
  {
   "cell_type": "code",
   "execution_count": null,
   "id": "0c425201-514b-4fd4-9f8b-4deefbca8362",
   "metadata": {},
   "outputs": [],
   "source": []
  },
  {
   "cell_type": "code",
   "execution_count": null,
   "id": "d66601d9-21f8-445c-88e8-78192935e4c8",
   "metadata": {},
   "outputs": [],
   "source": [
    "Q.3 An iterator in python is an object that implement the 'iterator' protocol.\n",
    "An object is considred an iterator if it can be itrated over.\n",
    "'_iter_()' method returns the iterator object itself.\n",
    "'_next_()' returns the next value from the iterator.\n"
   ]
  },
  {
   "cell_type": "code",
   "execution_count": 14,
   "id": "7aa6a9c2-ff5d-4ef6-ac84-8b7abf179079",
   "metadata": {},
   "outputs": [
    {
     "ename": "TypeError",
     "evalue": "ListIterator() takes no arguments",
     "output_type": "error",
     "traceback": [
      "\u001b[0;31m---------------------------------------------------------------------------\u001b[0m",
      "\u001b[0;31mTypeError\u001b[0m                                 Traceback (most recent call last)",
      "Cell \u001b[0;32mIn [14], line 20\u001b[0m\n\u001b[1;32m     16\u001b[0m             \u001b[38;5;28;01mreturn\u001b[39;00m result\n\u001b[1;32m     18\u001b[0m l \u001b[38;5;241m=\u001b[39m [\u001b[38;5;241m2\u001b[39m, \u001b[38;5;241m4\u001b[39m, \u001b[38;5;241m6\u001b[39m, \u001b[38;5;241m8\u001b[39m, \u001b[38;5;241m10\u001b[39m, \u001b[38;5;241m12\u001b[39m, \u001b[38;5;241m14\u001b[39m, \u001b[38;5;241m16\u001b[39m, \u001b[38;5;241m18\u001b[39m, \u001b[38;5;241m20\u001b[39m]\n\u001b[0;32m---> 20\u001b[0m iterator \u001b[38;5;241m=\u001b[39m \u001b[43mListIterator\u001b[49m\u001b[43m(\u001b[49m\u001b[43ml\u001b[49m\u001b[43m)\u001b[49m\n\u001b[1;32m     22\u001b[0m \u001b[38;5;28;01mfor\u001b[39;00m i \u001b[38;5;129;01min\u001b[39;00m \u001b[38;5;28mrange\u001b[39m(\u001b[38;5;241m5\u001b[39m):\n\u001b[1;32m     23\u001b[0m     \u001b[38;5;28mprint\u001b[39m(\u001b[38;5;28mnext\u001b[39m(iterator))\n",
      "\u001b[0;31mTypeError\u001b[0m: ListIterator() takes no arguments"
     ]
    }
   ],
   "source": [
    "class ListIterator:\n",
    "    \n",
    "    def _init_(self, l):\n",
    "        self.l = l\n",
    "        self.index = 0\n",
    "        \n",
    "    def _iter_(self):\n",
    "        return self\n",
    "    \n",
    "    def _next_(self):\n",
    "        if self.index >= len(self.l):\n",
    "            raise StopIteration\n",
    "        else:\n",
    "            result = self.l[self.index]\n",
    "            self.index += 1\n",
    "            return result\n",
    "        \n",
    "l = [2, 4, 6, 8, 10, 12, 14, 16, 18, 20]\n",
    "\n",
    "iterator = ListIterator(l)\n",
    "\n",
    "for i in range(5):\n",
    "    print(next(iterator))\n",
    "        "
   ]
  },
  {
   "cell_type": "code",
   "execution_count": null,
   "id": "c953ad7a-d8ec-4467-97e5-27cff4f91816",
   "metadata": {},
   "outputs": [],
   "source": [
    "Q4. A generator function is a special type of function in python that returns a generator iterator. \n",
    "Instead of returning a single value, a generator function yield multiple values, one at a time, using the yield keyword.\n",
    "The 'yield' keyword is used to return a value from gnerator function and pause its execution."
   ]
  },
  {
   "cell_type": "code",
   "execution_count": 16,
   "id": "4a02f209-6bae-45e7-8a8b-fbc0436c4d26",
   "metadata": {},
   "outputs": [
    {
     "name": "stdout",
     "output_type": "stream",
     "text": [
      "0\n",
      "1\n",
      "1\n",
      "2\n",
      "3\n",
      "5\n",
      "8\n",
      "13\n",
      "21\n",
      "34\n"
     ]
    }
   ],
   "source": [
    "def fibonacci():\n",
    "    a, b = 0, 1\n",
    "    while True:\n",
    "        yield a\n",
    "        a, b = b, a+b\n",
    "        \n",
    "fib = fibonacci()\n",
    "for i in range(10):\n",
    "    print(next(fib))"
   ]
  },
  {
   "cell_type": "code",
   "execution_count": null,
   "id": "dce7443b-b0f0-4c9c-9aa8-ac7346735531",
   "metadata": {},
   "outputs": [],
   "source": [
    "Q5."
   ]
  },
  {
   "cell_type": "code",
   "execution_count": 17,
   "id": "b457fdeb-16ae-49bd-b4ad-d406d76b2521",
   "metadata": {},
   "outputs": [
    {
     "name": "stdout",
     "output_type": "stream",
     "text": [
      "2\n",
      "3\n",
      "5\n",
      "7\n",
      "11\n",
      "13\n",
      "17\n",
      "19\n",
      "23\n",
      "29\n",
      "31\n",
      "37\n",
      "41\n",
      "43\n",
      "47\n",
      "53\n",
      "59\n",
      "61\n",
      "67\n",
      "71\n"
     ]
    }
   ],
   "source": [
    "def prime_numbers():\n",
    "    primes = []\n",
    "    for num in range(2, 1000):\n",
    "        for prime in primes:\n",
    "            if num % prime == 0:\n",
    "                break\n",
    "        else:\n",
    "            primes.append(num)\n",
    "            yield num\n",
    "            \n",
    "primes = prime_numbers()\n",
    "for i in range(20):\n",
    "    print(next(primes))"
   ]
  },
  {
   "cell_type": "code",
   "execution_count": null,
   "id": "7c487eb6-30d8-4c19-ad1a-304fc6dab2be",
   "metadata": {},
   "outputs": [],
   "source": [
    "Q6."
   ]
  },
  {
   "cell_type": "code",
   "execution_count": 22,
   "id": "0b5b89e6-8d0f-484c-8b0a-2e5447f01477",
   "metadata": {},
   "outputs": [
    {
     "name": "stdout",
     "output_type": "stream",
     "text": [
      "2\n",
      "3\n",
      "5\n",
      "8\n",
      "13\n",
      "21\n",
      "34\n",
      "55\n",
      "89\n",
      "144\n"
     ]
    }
   ],
   "source": [
    "a,b = 0,1\n",
    "count = 0\n",
    "\n",
    "while count < 10:\n",
    "    print(c)\n",
    "    a = b\n",
    "    b = c\n",
    "    c = a+b\n",
    "    count += 1\n",
    "    "
   ]
  },
  {
   "cell_type": "code",
   "execution_count": null,
   "id": "5c730ab5-bfa2-41a0-8fde-67db3d7d2156",
   "metadata": {},
   "outputs": [],
   "source": [
    "Q7."
   ]
  },
  {
   "cell_type": "code",
   "execution_count": 23,
   "id": "c5c6d835-df18-4ff7-91c0-86233d14cf53",
   "metadata": {},
   "outputs": [
    {
     "name": "stdout",
     "output_type": "stream",
     "text": [
      "['p', 'w', 's', 'k', 'i', 'l', 'l', 's']\n"
     ]
    }
   ],
   "source": [
    "s = 'pwskills'\n",
    "result = [char for char in s]\n",
    "print(result)"
   ]
  },
  {
   "cell_type": "code",
   "execution_count": null,
   "id": "7e0b6f93-c503-4bcb-8cf6-a03f8e282726",
   "metadata": {},
   "outputs": [],
   "source": [
    "Q8"
   ]
  },
  {
   "cell_type": "code",
   "execution_count": 26,
   "id": "ee3058f9-9f17-4a8f-a147-b30685ae36d9",
   "metadata": {},
   "outputs": [
    {
     "name": "stdin",
     "output_type": "stream",
     "text": [
      "Enter a number:  121\n"
     ]
    },
    {
     "name": "stdout",
     "output_type": "stream",
     "text": [
      "{temp} is pallindrome\n"
     ]
    }
   ],
   "source": [
    "number = int(input(\"Enter a number: \"))\n",
    "temp = number\n",
    "reverse = 0\n",
    "\n",
    "while number > 0:\n",
    "    digit = number % 10\n",
    "    reverse = (reverse*10) + digit\n",
    "    number = number // 10\n",
    "    \n",
    "if temp == reverse:\n",
    "    print(\"{temp} is pallindrome\")\n",
    "else:\n",
    "    print(\"{temp} is not a pallindrome\")"
   ]
  },
  {
   "cell_type": "code",
   "execution_count": 27,
   "id": "06d3ad58-9521-4a88-b07b-f05be7323591",
   "metadata": {},
   "outputs": [
    {
     "ename": "NameError",
     "evalue": "name 'Q8' is not defined",
     "output_type": "error",
     "traceback": [
      "\u001b[0;31m---------------------------------------------------------------------------\u001b[0m",
      "\u001b[0;31mNameError\u001b[0m                                 Traceback (most recent call last)",
      "Cell \u001b[0;32mIn [27], line 1\u001b[0m\n\u001b[0;32m----> 1\u001b[0m \u001b[43mQ8\u001b[49m\n",
      "\u001b[0;31mNameError\u001b[0m: name 'Q8' is not defined"
     ]
    }
   ],
   "source": [
    "Q9"
   ]
  },
  {
   "cell_type": "code",
   "execution_count": 28,
   "id": "265c6a65-9e3e-4e34-82a3-eb1bf54eca0d",
   "metadata": {},
   "outputs": [
    {
     "name": "stdout",
     "output_type": "stream",
     "text": [
      "[1, 3, 5, 7, 9, 11, 13, 15, 17, 19, 21, 23, 25, 27, 29, 31, 33, 35, 37, 39, 41, 43, 45, 47, 49, 51, 53, 55, 57, 59, 61, 63, 65, 67, 69, 71, 73, 75, 77, 79, 81, 83, 85, 87, 89, 91, 93, 95, 97, 99]\n"
     ]
    }
   ],
   "source": [
    "odd_number = [num for num in range(1,101) if num %2 != 0]\n",
    "print(odd_number)"
   ]
  },
  {
   "cell_type": "code",
   "execution_count": null,
   "id": "0ea7586f-48be-41af-9a4a-6710d23763ed",
   "metadata": {},
   "outputs": [],
   "source": []
  }
 ],
 "metadata": {
  "kernelspec": {
   "display_name": "Python 3 (ipykernel)",
   "language": "python",
   "name": "python3"
  },
  "language_info": {
   "codemirror_mode": {
    "name": "ipython",
    "version": 3
   },
   "file_extension": ".py",
   "mimetype": "text/x-python",
   "name": "python",
   "nbconvert_exporter": "python",
   "pygments_lexer": "ipython3",
   "version": "3.10.6"
  }
 },
 "nbformat": 4,
 "nbformat_minor": 5
}
